{
 "cells": [
  {
   "cell_type": "markdown",
   "id": "18586668",
   "metadata": {},
   "source": [
    "# Language Translator"
   ]
  },
  {
   "cell_type": "code",
   "execution_count": 205,
   "id": "6e35ac21",
   "metadata": {},
   "outputs": [],
   "source": [
    "import nltk\n",
    "import pandas as pd\n",
    "import numpy as np\n",
    "\n",
    "import string\n",
    "import re\n",
    "from numpy import array, argmax, random, take\n",
    "import tensorflow as tf\n",
    "\n",
    "from tensorflow import keras\n",
    "from tensorflow.keras import models\n",
    "from tensorflow.keras import layers\n",
    "from tensorflow.keras.utils import to_categorical\n",
    "from tensorflow.keras.models import Sequential\n",
    "from tensorflow.keras.layers import Dense, LSTM, Embedding, RepeatVector\n",
    "from tensorflow.keras.layers import TimeDistributed\n",
    "from tensorflow.keras.preprocessing.text import Tokenizer\n",
    "from tensorflow.keras.callbacks import ModelCheckpoint\n",
    "from tensorflow.keras.preprocessing.sequence import pad_sequences\n",
    "from tensorflow.keras.models import load_model\n",
    "from tensorflow.keras import optimizers\n",
    "import matplotlib.pyplot as plt\n",
    "%matplotlib inline\n",
    "\n",
    "from tensorflow.keras.utils import plot_model"
   ]
  },
  {
   "cell_type": "code",
   "execution_count": 206,
   "id": "bedee742",
   "metadata": {},
   "outputs": [
    {
     "name": "stderr",
     "output_type": "stream",
     "text": [
      "[nltk_data] Downloading package comtrans to\n",
      "[nltk_data]     /Users/craiglynch/nltk_data...\n",
      "[nltk_data]   Package comtrans is already up-to-date!\n"
     ]
    },
    {
     "data": {
      "text/plain": [
       "True"
      ]
     },
     "execution_count": 206,
     "metadata": {},
     "output_type": "execute_result"
    }
   ],
   "source": [
    "nltk.download('comtrans')"
   ]
  },
  {
   "cell_type": "code",
   "execution_count": 207,
   "id": "8a16faf8",
   "metadata": {},
   "outputs": [
    {
     "name": "stdout",
     "output_type": "stream",
     "text": [
      "<AlignedSent: 'Resumption of the se...' -> 'Reprise de la sessio...'>\n"
     ]
    }
   ],
   "source": [
    "from nltk.corpus import comtrans\n",
    "print(comtrans.aligned_sents('alignment-en-fr.txt')[0])"
   ]
  },
  {
   "cell_type": "code",
   "execution_count": 208,
   "id": "3c055cf4",
   "metadata": {},
   "outputs": [
    {
     "data": {
      "text/plain": [
       "33334"
      ]
     },
     "execution_count": 208,
     "metadata": {},
     "output_type": "execute_result"
    }
   ],
   "source": [
    "len(comtrans.aligned_sents('alignment-en-fr.txt'))"
   ]
  },
  {
   "cell_type": "markdown",
   "id": "88dfcb12",
   "metadata": {},
   "source": [
    "### Create and Pre-Process DataFrame"
   ]
  },
  {
   "cell_type": "code",
   "execution_count": 209,
   "id": "76d49d17",
   "metadata": {},
   "outputs": [],
   "source": [
    "def retrieve_corpora():\n",
    "    \n",
    "    corpus = comtrans.aligned_sents('alignment-en-fr.txt')\n",
    "    eng = [sent.words for sent in corpus]\n",
    "    fr = [sent.mots for sent in corpus]\n",
    "    \n",
    "    return eng, fr\n",
    "eng, fr = retrieve_corpora()"
   ]
  },
  {
   "cell_type": "code",
   "execution_count": 210,
   "id": "97c768d5",
   "metadata": {},
   "outputs": [],
   "source": [
    "# Make lowercase\n",
    "eng = [list(map(str.casefold, x)) for x in eng]\n",
    "fr = [list(map(str.casefold, x)) for x in fr]"
   ]
  },
  {
   "cell_type": "code",
   "execution_count": 211,
   "id": "a79d5f58",
   "metadata": {},
   "outputs": [
    {
     "data": {
      "text/html": [
       "<div>\n",
       "<style scoped>\n",
       "    .dataframe tbody tr th:only-of-type {\n",
       "        vertical-align: middle;\n",
       "    }\n",
       "\n",
       "    .dataframe tbody tr th {\n",
       "        vertical-align: top;\n",
       "    }\n",
       "\n",
       "    .dataframe thead th {\n",
       "        text-align: right;\n",
       "    }\n",
       "</style>\n",
       "<table border=\"1\" class=\"dataframe\">\n",
       "  <thead>\n",
       "    <tr style=\"text-align: right;\">\n",
       "      <th></th>\n",
       "      <th>0</th>\n",
       "    </tr>\n",
       "  </thead>\n",
       "  <tbody>\n",
       "    <tr>\n",
       "      <th>0</th>\n",
       "      <td>[resumption, of, the, session]</td>\n",
       "    </tr>\n",
       "    <tr>\n",
       "      <th>1</th>\n",
       "      <td>[i, declare, resumed, the, session, of, the, e...</td>\n",
       "    </tr>\n",
       "    <tr>\n",
       "      <th>2</th>\n",
       "      <td>[you, have, requested, a, debate, on, this, su...</td>\n",
       "    </tr>\n",
       "    <tr>\n",
       "      <th>3</th>\n",
       "      <td>[please, rise, ,, then, ,, for, this, minute, ...</td>\n",
       "    </tr>\n",
       "    <tr>\n",
       "      <th>4</th>\n",
       "      <td>[(, the, house, rose, and, observed, a, minute...</td>\n",
       "    </tr>\n",
       "  </tbody>\n",
       "</table>\n",
       "</div>"
      ],
      "text/plain": [
       "                                                   0\n",
       "0                     [resumption, of, the, session]\n",
       "1  [i, declare, resumed, the, session, of, the, e...\n",
       "2  [you, have, requested, a, debate, on, this, su...\n",
       "3  [please, rise, ,, then, ,, for, this, minute, ...\n",
       "4  [(, the, house, rose, and, observed, a, minute..."
      ]
     },
     "execution_count": 211,
     "metadata": {},
     "output_type": "execute_result"
    }
   ],
   "source": [
    "df_fr = pd.Series(fr)\n",
    "df_fr = pd.DataFrame(df_fr)\n",
    "df_eng = pd.Series(eng)\n",
    "df_eng = pd.DataFrame(df_eng)\n",
    "df_eng.head()"
   ]
  },
  {
   "cell_type": "code",
   "execution_count": 212,
   "id": "d80f56d2",
   "metadata": {},
   "outputs": [
    {
     "data": {
      "text/html": [
       "<div>\n",
       "<style scoped>\n",
       "    .dataframe tbody tr th:only-of-type {\n",
       "        vertical-align: middle;\n",
       "    }\n",
       "\n",
       "    .dataframe tbody tr th {\n",
       "        vertical-align: top;\n",
       "    }\n",
       "\n",
       "    .dataframe thead th {\n",
       "        text-align: right;\n",
       "    }\n",
       "</style>\n",
       "<table border=\"1\" class=\"dataframe\">\n",
       "  <thead>\n",
       "    <tr style=\"text-align: right;\">\n",
       "      <th></th>\n",
       "      <th>En</th>\n",
       "    </tr>\n",
       "  </thead>\n",
       "  <tbody>\n",
       "    <tr>\n",
       "      <th>0</th>\n",
       "      <td>['resumption', 'of', 'the', 'session']</td>\n",
       "    </tr>\n",
       "    <tr>\n",
       "      <th>1</th>\n",
       "      <td>['i', 'declare', 'resumed', 'the', 'session', ...</td>\n",
       "    </tr>\n",
       "    <tr>\n",
       "      <th>2</th>\n",
       "      <td>['you', 'have', 'requested', 'a', 'debate', 'o...</td>\n",
       "    </tr>\n",
       "    <tr>\n",
       "      <th>3</th>\n",
       "      <td>['please', 'rise', ',', 'then', ',', 'for', 't...</td>\n",
       "    </tr>\n",
       "    <tr>\n",
       "      <th>4</th>\n",
       "      <td>['(', 'the', 'house', 'rose', 'and', 'observed...</td>\n",
       "    </tr>\n",
       "  </tbody>\n",
       "</table>\n",
       "</div>"
      ],
      "text/plain": [
       "                                                  En\n",
       "0             ['resumption', 'of', 'the', 'session']\n",
       "1  ['i', 'declare', 'resumed', 'the', 'session', ...\n",
       "2  ['you', 'have', 'requested', 'a', 'debate', 'o...\n",
       "3  ['please', 'rise', ',', 'then', ',', 'for', 't...\n",
       "4  ['(', 'the', 'house', 'rose', 'and', 'observed..."
      ]
     },
     "execution_count": 212,
     "metadata": {},
     "output_type": "execute_result"
    }
   ],
   "source": [
    "df_fr = df_fr.rename(columns={df_fr.columns[0]: 'Fr'})\n",
    "df_fr = df_fr.astype(pd.StringDtype())\n",
    "df_eng = df_eng.rename(columns={df_eng.columns[0]: 'En'})\n",
    "df_eng = df_eng.astype(pd.StringDtype())\n",
    "df_eng.head()"
   ]
  },
  {
   "cell_type": "code",
   "execution_count": 213,
   "id": "b9baf22c",
   "metadata": {},
   "outputs": [
    {
     "data": {
      "text/html": [
       "<div>\n",
       "<style scoped>\n",
       "    .dataframe tbody tr th:only-of-type {\n",
       "        vertical-align: middle;\n",
       "    }\n",
       "\n",
       "    .dataframe tbody tr th {\n",
       "        vertical-align: top;\n",
       "    }\n",
       "\n",
       "    .dataframe thead th {\n",
       "        text-align: right;\n",
       "    }\n",
       "</style>\n",
       "<table border=\"1\" class=\"dataframe\">\n",
       "  <thead>\n",
       "    <tr style=\"text-align: right;\">\n",
       "      <th></th>\n",
       "      <th>Fr</th>\n",
       "    </tr>\n",
       "  </thead>\n",
       "  <tbody>\n",
       "    <tr>\n",
       "      <th>0</th>\n",
       "      <td>reprise de la session</td>\n",
       "    </tr>\n",
       "    <tr>\n",
       "      <th>1</th>\n",
       "      <td>je déclare reprise la session du parlement eur...</td>\n",
       "    </tr>\n",
       "    <tr>\n",
       "      <th>2</th>\n",
       "      <td>vous avez souhaité un débat à ce sujet dans le...</td>\n",
       "    </tr>\n",
       "    <tr>\n",
       "      <th>3</th>\n",
       "      <td>je vous invite à vous lever pour cette minute ...</td>\n",
       "    </tr>\n",
       "    <tr>\n",
       "      <th>4</th>\n",
       "      <td>le parlement  debout  observe une minute de s...</td>\n",
       "    </tr>\n",
       "  </tbody>\n",
       "</table>\n",
       "</div>"
      ],
      "text/plain": [
       "                                                  Fr\n",
       "0                              reprise de la session\n",
       "1  je déclare reprise la session du parlement eur...\n",
       "2  vous avez souhaité un débat à ce sujet dans le...\n",
       "3  je vous invite à vous lever pour cette minute ...\n",
       "4   le parlement  debout  observe une minute de s..."
      ]
     },
     "execution_count": 213,
     "metadata": {},
     "output_type": "execute_result"
    }
   ],
   "source": [
    "# Remove Punctuation\n",
    "import string\n",
    "def remove_punctuations(text):\n",
    "    for punctuation in string.punctuation:\n",
    "        text = text.replace(punctuation, '')\n",
    "    return text\n",
    "\n",
    "df_eng['En'] = df_eng['En'].apply(remove_punctuations)\n",
    "df_fr['Fr'] = df_fr['Fr'].apply(remove_punctuations)\n",
    "df_fr.head()"
   ]
  },
  {
   "cell_type": "code",
   "execution_count": 214,
   "id": "4765f4e4",
   "metadata": {},
   "outputs": [
    {
     "data": {
      "text/html": [
       "<div>\n",
       "<style scoped>\n",
       "    .dataframe tbody tr th:only-of-type {\n",
       "        vertical-align: middle;\n",
       "    }\n",
       "\n",
       "    .dataframe tbody tr th {\n",
       "        vertical-align: top;\n",
       "    }\n",
       "\n",
       "    .dataframe thead th {\n",
       "        text-align: right;\n",
       "    }\n",
       "</style>\n",
       "<table border=\"1\" class=\"dataframe\">\n",
       "  <thead>\n",
       "    <tr style=\"text-align: right;\">\n",
       "      <th></th>\n",
       "      <th>En</th>\n",
       "      <th>Fr</th>\n",
       "    </tr>\n",
       "  </thead>\n",
       "  <tbody>\n",
       "    <tr>\n",
       "      <th>0</th>\n",
       "      <td>resumption of the session</td>\n",
       "      <td>reprise de la session</td>\n",
       "    </tr>\n",
       "    <tr>\n",
       "      <th>1</th>\n",
       "      <td>i declare resumed the session of the european ...</td>\n",
       "      <td>je déclare reprise la session du parlement eur...</td>\n",
       "    </tr>\n",
       "    <tr>\n",
       "      <th>2</th>\n",
       "      <td>you have requested a debate on this subject in...</td>\n",
       "      <td>vous avez souhaité un débat à ce sujet dans le...</td>\n",
       "    </tr>\n",
       "    <tr>\n",
       "      <th>3</th>\n",
       "      <td>please rise  then  for this minute  s silence</td>\n",
       "      <td>je vous invite à vous lever pour cette minute ...</td>\n",
       "    </tr>\n",
       "    <tr>\n",
       "      <th>4</th>\n",
       "      <td>the house rose and observed a minute  s silence</td>\n",
       "      <td>le parlement  debout  observe une minute de s...</td>\n",
       "    </tr>\n",
       "  </tbody>\n",
       "</table>\n",
       "</div>"
      ],
      "text/plain": [
       "                                                  En  \\\n",
       "0                          resumption of the session   \n",
       "1  i declare resumed the session of the european ...   \n",
       "2  you have requested a debate on this subject in...   \n",
       "3     please rise  then  for this minute  s silence    \n",
       "4   the house rose and observed a minute  s silence    \n",
       "\n",
       "                                                  Fr  \n",
       "0                              reprise de la session  \n",
       "1  je déclare reprise la session du parlement eur...  \n",
       "2  vous avez souhaité un débat à ce sujet dans le...  \n",
       "3  je vous invite à vous lever pour cette minute ...  \n",
       "4   le parlement  debout  observe une minute de s...  "
      ]
     },
     "execution_count": 214,
     "metadata": {},
     "output_type": "execute_result"
    }
   ],
   "source": [
    "# Combine datasets into 1\n",
    "df = df_eng.join(df_fr)\n",
    "df.head()"
   ]
  },
  {
   "cell_type": "markdown",
   "id": "1df7e7e9",
   "metadata": {},
   "source": [
    "### Text to Sequence Conversion (converts text to tokens)"
   ]
  },
  {
   "cell_type": "markdown",
   "id": "294b9b81",
   "metadata": {},
   "source": [
    "Visualise the length of the sentences."
   ]
  },
  {
   "cell_type": "code",
   "execution_count": 215,
   "id": "2fac3b2e",
   "metadata": {},
   "outputs": [
    {
     "data": {
      "image/png": "[encoded data removed]",
      "text/plain": [
       "<Figure size 432x288 with 2 Axes>"
      ]
     },
     "metadata": {
      "needs_background": "light"
     },
     "output_type": "display_data"
    }
   ],
   "source": [
    "# empty lists\n",
    "eng_l = []\n",
    "fra_l = []\n",
    "\n",
    "# populate the lists with sentence lengths\n",
    "for i in df['En']:\n",
    "      eng_l.append(len(i.split()))\n",
    "\n",
    "for i in df['Fr']:\n",
    "      fra_l.append(len(i.split()))\n",
    "\n",
    "length_df = pd.DataFrame({'eng':eng_l, 'fra':fra_l})\n",
    "\n",
    "length_df.hist(bins = 30)\n",
    "plt.show()"
   ]
  },
  {
   "cell_type": "code",
   "execution_count": 217,
   "id": "afbc09f7",
   "metadata": {},
   "outputs": [
    {
     "name": "stdout",
     "output_type": "stream",
     "text": [
      "Saved: english-french-both.pkl\n",
      "Saved: english-french-train.pkl\n",
      "Saved: english-french-test.pkl\n"
     ]
    }
   ],
   "source": [
    "from pickle import load\n",
    "from pickle import dump\n",
    "from numpy.random import rand\n",
    "# reduce dataset size\n",
    "df = df.head(10000)\n",
    "# random shuffle\n",
    "# from numpy.random import shuffle\n",
    "# shuffle(df)\n",
    "# split into train/test\n",
    "train = df.head(8000)\n",
    "test = df.tail(2000)\n",
    "# save\n",
    "# save a list of clean sentences to file\n",
    "def save_clean_data(sentences, filename):\n",
    "    dump(sentences, open(filename, 'wb'))\n",
    "    print('Saved: %s' % filename)\n",
    "    \n",
    "save_clean_data(df, 'english-french-both.pkl')\n",
    "save_clean_data(train, 'english-french-train.pkl')\n",
    "save_clean_data(test, 'english-french-test.pkl')"
   ]
  },
  {
   "cell_type": "code",
   "execution_count": 218,
   "id": "930779ee",
   "metadata": {},
   "outputs": [],
   "source": [
    "# load a clean dataset\n",
    "def load_clean_sentences(filename):\n",
    "    return load(open(filename, 'rb'))\n",
    "\n",
    "# load datasets\n",
    "df = load_clean_sentences('english-french-both.pkl')\n",
    "train = load_clean_sentences('english-french-train.pkl')\n",
    "test = load_clean_sentences('english-french-test.pkl')"
   ]
  },
  {
   "cell_type": "code",
   "execution_count": 219,
   "id": "af4a51c6",
   "metadata": {},
   "outputs": [
    {
     "data": {
      "text/html": [
       "<div>\n",
       "<style scoped>\n",
       "    .dataframe tbody tr th:only-of-type {\n",
       "        vertical-align: middle;\n",
       "    }\n",
       "\n",
       "    .dataframe tbody tr th {\n",
       "        vertical-align: top;\n",
       "    }\n",
       "\n",
       "    .dataframe thead th {\n",
       "        text-align: right;\n",
       "    }\n",
       "</style>\n",
       "<table border=\"1\" class=\"dataframe\">\n",
       "  <thead>\n",
       "    <tr style=\"text-align: right;\">\n",
       "      <th></th>\n",
       "      <th>En</th>\n",
       "      <th>Fr</th>\n",
       "    </tr>\n",
       "  </thead>\n",
       "  <tbody>\n",
       "    <tr>\n",
       "      <th>0</th>\n",
       "      <td>resumption of the session</td>\n",
       "      <td>reprise de la session</td>\n",
       "    </tr>\n",
       "    <tr>\n",
       "      <th>1</th>\n",
       "      <td>i declare resumed the session of the european ...</td>\n",
       "      <td>je déclare reprise la session du parlement eur...</td>\n",
       "    </tr>\n",
       "    <tr>\n",
       "      <th>2</th>\n",
       "      <td>you have requested a debate on this subject in...</td>\n",
       "      <td>vous avez souhaité un débat à ce sujet dans le...</td>\n",
       "    </tr>\n",
       "    <tr>\n",
       "      <th>3</th>\n",
       "      <td>please rise  then  for this minute  s silence</td>\n",
       "      <td>je vous invite à vous lever pour cette minute ...</td>\n",
       "    </tr>\n",
       "    <tr>\n",
       "      <th>4</th>\n",
       "      <td>the house rose and observed a minute  s silence</td>\n",
       "      <td>le parlement  debout  observe une minute de s...</td>\n",
       "    </tr>\n",
       "  </tbody>\n",
       "</table>\n",
       "</div>"
      ],
      "text/plain": [
       "                                                  En  \\\n",
       "0                          resumption of the session   \n",
       "1  i declare resumed the session of the european ...   \n",
       "2  you have requested a debate on this subject in...   \n",
       "3     please rise  then  for this minute  s silence    \n",
       "4   the house rose and observed a minute  s silence    \n",
       "\n",
       "                                                  Fr  \n",
       "0                              reprise de la session  \n",
       "1  je déclare reprise la session du parlement eur...  \n",
       "2  vous avez souhaité un débat à ce sujet dans le...  \n",
       "3  je vous invite à vous lever pour cette minute ...  \n",
       "4   le parlement  debout  observe une minute de s...  "
      ]
     },
     "execution_count": 219,
     "metadata": {},
     "output_type": "execute_result"
    }
   ],
   "source": [
    "train.head()"
   ]
  },
  {
   "cell_type": "code",
   "execution_count": 220,
   "id": "124de8c8",
   "metadata": {},
   "outputs": [],
   "source": [
    "df = df[[\"En\", \"Fr\"]].to_numpy()\n",
    "train = train[[\"En\", \"Fr\"]].to_numpy()\n",
    "test = test[[\"En\", \"Fr\"]].to_numpy()"
   ]
  },
  {
   "cell_type": "code",
   "execution_count": 221,
   "id": "79f516a9",
   "metadata": {},
   "outputs": [],
   "source": [
    "# fit a tokenizer\n",
    "def create_tokenizer(lines):\n",
    "    tokenizer = Tokenizer()\n",
    "    tokenizer.fit_on_texts(lines)\n",
    "    return tokenizer\n",
    "\n",
    "# max sentence length\n",
    "def max_length(lines):\n",
    "    return max(len(line.split()) for line in lines)"
   ]
  },
  {
   "cell_type": "code",
   "execution_count": 222,
   "id": "60c28d12",
   "metadata": {},
   "outputs": [
    {
     "name": "stdout",
     "output_type": "stream",
     "text": [
      "English Vocabulary Size: 9496\n",
      "English Max Length: 39\n",
      "French Vocabulary Size: 12549\n",
      "French Max Length: 39\n"
     ]
    }
   ],
   "source": [
    "# prepare English tokenizer\n",
    "eng_tokenizer = create_tokenizer(df[:, 0])\n",
    "eng_vocab_size = len(eng_tokenizer.word_index) + 1\n",
    "eng_length = max_length(df[:, 0])\n",
    "print('English Vocabulary Size: %d' % eng_vocab_size)\n",
    "print('English Max Length: %d' % (eng_length))\n",
    "# prepare French tokenizer\n",
    "fra_tokenizer = create_tokenizer(df[:, 1])\n",
    "fra_vocab_size = len(fra_tokenizer.word_index) + 1\n",
    "fra_length = max_length(df[:, 1])\n",
    "print('French Vocabulary Size: %d' % fra_vocab_size)\n",
    "print('French Max Length: %d' % (fra_length))"
   ]
  },
  {
   "cell_type": "markdown",
   "id": "111340ab",
   "metadata": {},
   "source": [
    "Max length of sentences for both English and French is 38"
   ]
  },
  {
   "cell_type": "markdown",
   "id": "f4400f89",
   "metadata": {},
   "source": [
    "Function to prepare the sequences. It will also perform sequence padding to a maximum sentence length"
   ]
  },
  {
   "cell_type": "code",
   "execution_count": 223,
   "id": "37a75306",
   "metadata": {},
   "outputs": [],
   "source": [
    "# encode and pad sequences\n",
    "def encode_sequences(tokenizer, length, lines):\n",
    "     # integer encode sequences\n",
    "    seq = tokenizer.texts_to_sequences(lines)\n",
    "     # pad sequences with 0 values\n",
    "    seq = pad_sequences(seq, maxlen=length, padding='post')\n",
    "    return seq"
   ]
  },
  {
   "cell_type": "markdown",
   "id": "35307233",
   "metadata": {},
   "source": [
    "### Model Building"
   ]
  },
  {
   "cell_type": "markdown",
   "id": "b807d235",
   "metadata": {},
   "source": [
    "Define Seq2Seq model architecture:\n",
    "\n",
    "* Encoder: use an embedding layer and an LSTM layer\n",
    "* Decoder: use LSTM layer followed by a dense layer"
   ]
  },
  {
   "cell_type": "code",
   "execution_count": 224,
   "id": "3f521b06",
   "metadata": {},
   "outputs": [],
   "source": [
    "from sklearn.model_selection import train_test_split\n",
    "\n",
    "# split data into train and test set\n",
    "train, test = train_test_split(df, test_size=0.2, random_state = 12)"
   ]
  },
  {
   "cell_type": "code",
   "execution_count": 225,
   "id": "8d8f8d7f",
   "metadata": {},
   "outputs": [],
   "source": [
    "# prepare training data\n",
    "trainX = encode_sequences(fra_tokenizer, fra_length, train[:, 1])\n",
    "trainY = encode_sequences(eng_tokenizer, eng_length, train[:, 0])\n",
    "\n",
    "# prepare validation data\n",
    "testX = encode_sequences(fra_tokenizer, fra_length, test[:, 1])\n",
    "testY = encode_sequences(eng_tokenizer, eng_length, test[:, 0])"
   ]
  },
  {
   "cell_type": "code",
   "execution_count": 226,
   "id": "dd5c0f76",
   "metadata": {},
   "outputs": [
    {
     "name": "stdout",
     "output_type": "stream",
     "text": [
      "(8000, 39)\n",
      "(8000, 39)\n",
      "(2000, 39)\n",
      "(2000, 39)\n"
     ]
    }
   ],
   "source": [
    "print(trainX.shape)\n",
    "print(trainY.shape)\n",
    "print(testX.shape)\n",
    "print(testY.shape)"
   ]
  },
  {
   "cell_type": "code",
   "execution_count": 227,
   "id": "01b9c70b",
   "metadata": {},
   "outputs": [],
   "source": [
    "# build NMT model\n",
    "def define_model(in_vocab,out_vocab, in_timesteps,out_timesteps,units):\n",
    "    model = Sequential()\n",
    "    model.add(Embedding(in_vocab, units, input_length=in_timesteps, mask_zero=True))\n",
    "    model.add(LSTM(units))\n",
    "    model.add(RepeatVector(out_timesteps))\n",
    "    model.add(LSTM(units, return_sequences=True))\n",
    "    model.add(Dense(out_vocab, activation='softmax'))\n",
    "    return model"
   ]
  },
  {
   "cell_type": "code",
   "execution_count": null,
   "id": "6857143a",
   "metadata": {},
   "outputs": [],
   "source": []
  },
  {
   "cell_type": "code",
   "execution_count": 228,
   "id": "3321c800",
   "metadata": {},
   "outputs": [],
   "source": [
    "# model compilation\n",
    "model = define_model(fra_vocab_size, eng_vocab_size, fra_length, eng_length, 512)"
   ]
  },
  {
   "cell_type": "code",
   "execution_count": 229,
   "id": "42233a23",
   "metadata": {},
   "outputs": [
    {
     "name": "stderr",
     "output_type": "stream",
     "text": [
      "/opt/anaconda3/lib/python3.8/site-packages/tensorflow/python/keras/optimizer_v2/optimizer_v2.py:374: UserWarning: The `lr` argument is deprecated, use `learning_rate` instead.\n",
      "  warnings.warn(\n"
     ]
    },
    {
     "name": "stdout",
     "output_type": "stream",
     "text": [
      "Model: \"sequential_5\"\n",
      "_________________________________________________________________\n",
      "Layer (type)                 Output Shape              Param #   \n",
      "=================================================================\n",
      "embedding_5 (Embedding)      (None, 39, 512)           6425088   \n",
      "_________________________________________________________________\n",
      "lstm_10 (LSTM)               (None, 512)               2099200   \n",
      "_________________________________________________________________\n",
      "repeat_vector_5 (RepeatVecto (None, 39, 512)           0         \n",
      "_________________________________________________________________\n",
      "lstm_11 (LSTM)               (None, 39, 512)           2099200   \n",
      "_________________________________________________________________\n",
      "dense_5 (Dense)              (None, 39, 9496)          4871448   \n",
      "=================================================================\n",
      "Total params: 15,494,936\n",
      "Trainable params: 15,494,936\n",
      "Non-trainable params: 0\n",
      "_________________________________________________________________\n",
      "None\n"
     ]
    },
    {
     "data": {
      "image/png": "[encoded data removed]",
      "text/plain": [
       "<IPython.core.display.Image object>"
      ]
     },
     "execution_count": 229,
     "metadata": {},
     "output_type": "execute_result"
    }
   ],
   "source": [
    "rms = optimizers.RMSprop(lr=0.001)\n",
    "model.compile(optimizer=rms, loss='sparse_categorical_crossentropy')\n",
    "print(model.summary())\n",
    "plot_model(model, to_file='model.png', show_shapes=True)"
   ]
  },
  {
   "cell_type": "code",
   "execution_count": null,
   "id": "e44579d3",
   "metadata": {},
   "outputs": [],
   "source": []
  },
  {
   "cell_type": "markdown",
   "id": "898e3dc6",
   "metadata": {},
   "source": [
    "### Training the Model"
   ]
  },
  {
   "cell_type": "code",
   "execution_count": 230,
   "id": "1b7bcffc",
   "metadata": {},
   "outputs": [],
   "source": [
    "# Epoch 30, batch_size 64"
   ]
  },
  {
   "cell_type": "code",
   "execution_count": 231,
   "id": "af46594f",
   "metadata": {},
   "outputs": [
    {
     "name": "stdout",
     "output_type": "stream",
     "text": [
      "Epoch 1/20\n",
      "13/13 [==============================] - 222s 16s/step - loss: 4.9356 - val_loss: 3.7171\n",
      "\n",
      "Epoch 00001: val_loss improved from inf to 3.71708, saving model to model.h5\n",
      "Epoch 2/20\n",
      "13/13 [==============================] - 195s 15s/step - loss: 3.6329 - val_loss: 3.6431\n",
      "\n",
      "Epoch 00002: val_loss improved from 3.71708 to 3.64309, saving model to model.h5\n",
      "Epoch 3/20\n",
      "13/13 [==============================] - 197s 15s/step - loss: 3.5483 - val_loss: 3.6272\n",
      "\n",
      "Epoch 00003: val_loss improved from 3.64309 to 3.62722, saving model to model.h5\n",
      "Epoch 4/20\n",
      "13/13 [==============================] - 202s 15s/step - loss: 3.4892 - val_loss: 3.5871\n",
      "\n",
      "Epoch 00004: val_loss improved from 3.62722 to 3.58707, saving model to model.h5\n",
      "Epoch 5/20\n",
      "13/13 [==============================] - 195s 15s/step - loss: 3.4158 - val_loss: 3.4944\n",
      "\n",
      "Epoch 00005: val_loss improved from 3.58707 to 3.49438, saving model to model.h5\n",
      "Epoch 6/20\n",
      "13/13 [==============================] - 194s 15s/step - loss: 3.3789 - val_loss: 3.4654\n",
      "\n",
      "Epoch 00006: val_loss improved from 3.49438 to 3.46541, saving model to model.h5\n",
      "Epoch 7/20\n",
      "13/13 [==============================] - 194s 15s/step - loss: 3.3224 - val_loss: 3.4806\n",
      "\n",
      "Epoch 00007: val_loss did not improve from 3.46541\n",
      "Epoch 8/20\n",
      "13/13 [==============================] - 199s 15s/step - loss: 3.3290 - val_loss: 3.4175\n",
      "\n",
      "Epoch 00008: val_loss improved from 3.46541 to 3.41749, saving model to model.h5\n",
      "Epoch 9/20\n",
      "13/13 [==============================] - 194s 15s/step - loss: 3.2778 - val_loss: 3.3026\n",
      "\n",
      "Epoch 00009: val_loss improved from 3.41749 to 3.30261, saving model to model.h5\n",
      "Epoch 10/20\n",
      "13/13 [==============================] - 193s 15s/step - loss: 3.3075 - val_loss: 3.3213\n",
      "\n",
      "Epoch 00010: val_loss did not improve from 3.30261\n",
      "Epoch 11/20\n",
      "13/13 [==============================] - 193s 15s/step - loss: 3.2060 - val_loss: 3.3162\n",
      "\n",
      "Epoch 00011: val_loss did not improve from 3.30261\n",
      "Epoch 12/20\n",
      "13/13 [==============================] - 194s 15s/step - loss: 3.2366 - val_loss: 3.2708\n",
      "\n",
      "Epoch 00012: val_loss improved from 3.30261 to 3.27077, saving model to model.h5\n",
      "Epoch 13/20\n",
      "13/13 [==============================] - 199s 15s/step - loss: 3.1804 - val_loss: 3.2463\n",
      "\n",
      "Epoch 00013: val_loss improved from 3.27077 to 3.24626, saving model to model.h5\n",
      "Epoch 14/20\n",
      "13/13 [==============================] - 194s 15s/step - loss: 3.2090 - val_loss: 3.3357\n",
      "\n",
      "Epoch 00014: val_loss did not improve from 3.24626\n",
      "Epoch 15/20\n",
      "13/13 [==============================] - 194s 15s/step - loss: 3.1637 - val_loss: 3.3717\n",
      "\n",
      "Epoch 00015: val_loss did not improve from 3.24626\n",
      "Epoch 16/20\n",
      "13/13 [==============================] - 192s 15s/step - loss: 3.1534 - val_loss: 3.3044\n",
      "\n",
      "Epoch 00016: val_loss did not improve from 3.24626\n",
      "Epoch 17/20\n",
      "13/13 [==============================] - 211s 16s/step - loss: 3.1531 - val_loss: 3.2476\n",
      "\n",
      "Epoch 00017: val_loss did not improve from 3.24626\n",
      "Epoch 18/20\n",
      "13/13 [==============================] - 266s 21s/step - loss: 3.1454 - val_loss: 3.3386\n",
      "\n",
      "Epoch 00018: val_loss did not improve from 3.24626\n",
      "Epoch 19/20\n",
      "13/13 [==============================] - 226s 17s/step - loss: 3.1012 - val_loss: 3.2255\n",
      "\n",
      "Epoch 00019: val_loss improved from 3.24626 to 3.22550, saving model to model.h5\n",
      "Epoch 20/20\n",
      "13/13 [==============================] - 213s 16s/step - loss: 3.0990 - val_loss: 3.4875\n",
      "\n",
      "Epoch 00020: val_loss did not improve from 3.22550\n"
     ]
    }
   ],
   "source": [
    "# fit model\n",
    "filename = 'model.h5'\n",
    "checkpoint = ModelCheckpoint(filename, monitor='val_loss', verbose=1, save_best_only=True, mode='min')\n",
    "\n",
    "# train model\n",
    "history = model.fit(trainX, trainY.reshape(trainY.shape[0], trainY.shape[1], 1),\n",
    "                    epochs=20, batch_size=512, validation_split = 0.2,callbacks=[checkpoint], \n",
    "                    verbose=1)"
   ]
  },
  {
   "cell_type": "code",
   "execution_count": 242,
   "id": "6a9600e6",
   "metadata": {},
   "outputs": [
    {
     "data": {
      "image/png": "[encoded data removed]",
      "text/plain": [
       "<Figure size 432x288 with 1 Axes>"
      ]
     },
     "metadata": {
      "needs_background": "light"
     },
     "output_type": "display_data"
    }
   ],
   "source": [
    "plt.plot(history.history['loss'])\n",
    "plt.plot(history.history['val_loss'])\n",
    "plt.legend(['training loss','validation loss'])\n",
    "plt.show()"
   ]
  },
  {
   "cell_type": "markdown",
   "id": "706d9768",
   "metadata": {},
   "source": [
    "# Evaluate the Model"
   ]
  },
  {
   "cell_type": "code",
   "execution_count": 233,
   "id": "3815c4c4",
   "metadata": {},
   "outputs": [],
   "source": [
    "model = load_model('model.h5')\n",
    "\n",
    "translation = model.predict(testX, verbose=0)\n",
    "#preds = model.predict_classes(testX)"
   ]
  },
  {
   "cell_type": "code",
   "execution_count": 234,
   "id": "4e4d3387",
   "metadata": {},
   "outputs": [
    {
     "data": {
      "text/plain": [
       "(2000, 39, 9496)"
      ]
     },
     "execution_count": 234,
     "metadata": {},
     "output_type": "execute_result"
    }
   ],
   "source": [
    "translation.shape"
   ]
  },
  {
   "cell_type": "code",
   "execution_count": 235,
   "id": "569ace4e",
   "metadata": {},
   "outputs": [],
   "source": [
    "# map an integer to a word\n",
    "def word_for_id(integer, tokenizer):\n",
    "\tfor word, index in tokenizer.word_index.items():\n",
    "\t\tif index == integer:\n",
    "\t\t\treturn word\n",
    "\treturn None"
   ]
  },
  {
   "cell_type": "code",
   "execution_count": 236,
   "id": "d740796e",
   "metadata": {},
   "outputs": [],
   "source": [
    "# generate target given source sequence\n",
    "def predict_sequence(model, tokenizer, source):\n",
    "\tprediction = model.predict(source, verbose=0)[0]\n",
    "\tintegers = [argmax(vector) for vector in prediction]\n",
    "\ttarget = list()\n",
    "\tfor i in integers:\n",
    "\t\tword = word_for_id(i, tokenizer)\n",
    "\t\tif word is None:\n",
    "\t\t\tbreak\n",
    "\t\ttarget.append(word)\n",
    "\treturn ' '.join(target)"
   ]
  },
  {
   "cell_type": "code",
   "execution_count": 237,
   "id": "2e8cd347",
   "metadata": {},
   "outputs": [],
   "source": [
    "from nltk.translate.bleu_score import corpus_bleu\n",
    "# evaluate the skill of the model\n",
    "def evaluate_model(model, tokenizer, sources, raw_dataset):\n",
    "\tactual, predicted = list(), list()\n",
    "\tfor i, source in enumerate(sources):\n",
    "\t\t# translate encoded source text\n",
    "\t\tsource = source.reshape((1, source.shape[0]))\n",
    "\t\ttranslation = predict_sequence(model, eng_tokenizer, source)\n",
    "\t\traw_target, raw_src = raw_dataset[i]\n",
    "\t\tif i < 10:\n",
    "\t\t\tprint('src=[%s], target=[%s], predicted=[%s]' % (raw_src, raw_target, translation))\n",
    "\t\tactual.append([raw_target.split()])\n",
    "\t\tpredicted.append(translation.split())\n",
    "\t# calculate BLEU score\n",
    "\tprint('BLEU-1: %f' % corpus_bleu(actual, predicted, weights=(1.0, 0, 0, 0)))\n",
    "\tprint('BLEU-2: %f' % corpus_bleu(actual, predicted, weights=(0.5, 0.5, 0, 0)))\n",
    "\tprint('BLEU-3: %f' % corpus_bleu(actual, predicted, weights=(0.3, 0.3, 0.3, 0)))\n",
    "\tprint('BLEU-4: %f' % corpus_bleu(actual, predicted, weights=(0.25, 0.25, 0.25, 0.25)))"
   ]
  },
  {
   "cell_type": "code",
   "execution_count": 238,
   "id": "f2d2a0bf",
   "metadata": {},
   "outputs": [
    {
     "name": "stdout",
     "output_type": "stream",
     "text": [
      "train\n",
      "src=[madame la présidente  je voudrais tout simplement inviter mon collègue wurtz à relire et à vérifier de quoi il s  agit ], target=[madam president  i should simply like to ask mr wurtz to take a second look at what this is about ], predicted=[i is the the the the the the the the the the the the]\n",
      "src=[trop souvent on appelle ce genre de structure une fois le drame survenu ], target=[all too often we find ourselves calling for this after a disaster has occurred ], predicted=[i is the the the the the the the the]\n",
      "src=[des réponses manquent encore ], target=[answers are still awaited ], predicted=[the is]\n",
      "src=[je suis même surpris qu  elle soit faite  parce que nous nous étions mis d  accord làdessus après un échange en conférence des présidents ], target=[i am surprised it has even been made  because we came to an agreement following an exchange in the conference of presidents ], predicted=[i is the the the the the the the the the the the the the the]\n",
      "src=[vous pouvez donc difficilement attendre du commissaire que je suis de voter en faveur d  une taxe qui constituerait précisément une entrave à la circulation économique internationale ], target=[you could hardly expect this commissioner to agree with a tax which would  in fact  impede international economic movement ], predicted=[i is the the the the the the the the the the the the the the the]\n",
      "src=[question no 39 de  h0807  99  ], target=[question no 39 by  h0807  99  ], predicted=[i is is the]\n",
      "src=[un rôle important que la commission devra jouer sera de donner des conseils en matière d éthique et de normes et de superviser les codes de conduites communs et particuliers des institutions ], target=[an important role for the committee will be to give advice on ethics and standards and to supervise common and separate codes of conduct for the institutions ], predicted=[i is the the the the the the the the the the the the the the the the the]\n",
      "src=[ce n est pas ce que nous souhaitons et c est la raison pour laquelle nous avons voté contre le rapport ], target=[that is something we do not want to see  and we have therefore voted against any such extension ], predicted=[i is the the the the the the the the the the the the]\n",
      "src=[elle débattra notamment de la question d une éventuelle présentation de projet de résolution sur la peine de mort ], target=[in particular  there will be a discussion of the possibility of tabling a draft resolution on the death penalty ], predicted=[i is the the the the the the the the the]\n",
      "src=[à l avenir aussi  les altérations des conditions de concurrence et les déséquilibres sur les marchés doivent être évités ], target=[what we need to avoid doing in the future is compromising competition conditions and disturbing the balance in the markets ], predicted=[i is the the the the the the the the the the the the]\n"
     ]
    },
    {
     "name": "stderr",
     "output_type": "stream",
     "text": [
      "/opt/anaconda3/lib/python3.8/site-packages/nltk/translate/bleu_score.py:516: UserWarning: \n",
      "The hypothesis contains 0 counts of 3-gram overlaps.\n",
      "Therefore the BLEU score evaluates to 0, independently of\n",
      "how many N-gram overlaps of lower order it contains.\n",
      "Consider using lower n-gram order or use SmoothingFunction()\n",
      "  warnings.warn(_msg)\n",
      "/opt/anaconda3/lib/python3.8/site-packages/nltk/translate/bleu_score.py:516: UserWarning: \n",
      "The hypothesis contains 0 counts of 4-gram overlaps.\n",
      "Therefore the BLEU score evaluates to 0, independently of\n",
      "how many N-gram overlaps of lower order it contains.\n",
      "Consider using lower n-gram order or use SmoothingFunction()\n",
      "  warnings.warn(_msg)\n"
     ]
    },
    {
     "name": "stdout",
     "output_type": "stream",
     "text": [
      "BLEU-1: 0.093951\n",
      "BLEU-2: 0.011952\n",
      "BLEU-3: 0.000000\n",
      "BLEU-4: 0.000000\n",
      "test\n",
      "src=[l europe sociale  utilisée comme fairevaloir par l ue  a carrément disparu de l ordre du jour ], target=[social europe  used as a foil by the eu  has simply been eliminated from the agenda ], predicted=[i is the the the the the the the the the]\n",
      "src=[je suis également convaincue que life a un potentiel énorme ], target=[i am also convinced that life has great potential ], predicted=[i is the the the the the]\n",
      "src=[le rétablissement récent de certains contrôles aux frontières intérieures me pousse à conclure qu il est nécessaire de procéder à une analyse détaillée des conditions d adoption d un instrument législatif fondé sur l article 62 du traité ], target=[the recent restoring of certain internal border controls leads me to believe that we need a detailed analysis of the conditions for adopting a legislative instrument based on article 62 of the treaty ], predicted=[i is the the the the the the the the the the the the the the the the the]\n",
      "src=[monsieur le président  chers collègues  life est l  instrument le plus important  l  unique instrument financier  en fait  de l  union européenne qui soit exclusivement consacré à l  environnement ], target=[mr president  ladies and gentlemen  life is the european union  s most important instrument and indeed its only financial instrument dedicated exclusively to the environment ], predicted=[i is the the the the the the the the the the the the the the the]\n",
      "src=[et ce en raison du processus d élargissement à l est et du processus d intégration renforcée avec les pays du bassin méditerranéen ], target=[this is on account of the process of enlargement to the east and that of greater integration with the mediterranean countries ], predicted=[i is the the the the the the the the the the the the the]\n",
      "src=[la commission doit donc poursuivre résolument le développement de l  espace commun de liberté  de sécurité et de justice et je m oppose à ce sujet aux deux orateurs qui m  ont précédé ], target=[in this sense  the commission must insist on building up the common area of freedom  security and justice and in this sense i disagree with the last two speakers ], predicted=[i is the the the the the the the the the the the the the the the the]\n",
      "src=[cela ne signifie pas que nous sympathisons avec haider ], target=[this does not mean that we sympathise with haider ], predicted=[the is the the the the the]\n",
      "src=[cela est fort appréciable et je pense aussi que notre programme de gestion des villages devrait contribuer à promouvoir la démocratie à la base ], target=[that is very welcome and i also believe that our village governance programme should help to promote democracy at grassroots level ], predicted=[i is the the the the the the the the the the the the the the]\n",
      "src=[j estime qu il n est pas superflu d insister sur notre souhait de participer davantage à ce qui concerne la cour de justice  y compris à la nomination même des juges ], target=[i believe that it is well worth insisting that we wish to participate more with regard to the court of justice  even in the appointment of judges ], predicted=[i is the the the the the the the the the the the the the the the the]\n",
      "src=[cette foisci en irlande  ce n était pas si grave  bien que de nombreuses tempêtes violentes aient sévi dans l atlantique ], target=[we did not have it so bad in ireland this time although we have had many serious wind storms on the atlantic ], predicted=[i is the the the the the the the the the the the the]\n",
      "BLEU-1: 0.095279\n",
      "BLEU-2: 0.012046\n",
      "BLEU-3: 0.000000\n",
      "BLEU-4: 0.000000\n"
     ]
    }
   ],
   "source": [
    "# load model\n",
    "model = load_model('model.h5')\n",
    "# test on some training sequences\n",
    "print('train')\n",
    "evaluate_model(model, eng_tokenizer, trainX, train)\n",
    "# test on some test sequences\n",
    "print('test')\n",
    "evaluate_model(model, eng_tokenizer, testX, test)"
   ]
  },
  {
   "cell_type": "code",
   "execution_count": null,
   "id": "bf2c06cd",
   "metadata": {},
   "outputs": [],
   "source": []
  },
  {
   "cell_type": "code",
   "execution_count": null,
   "id": "c51f1d6d",
   "metadata": {},
   "outputs": [],
   "source": []
  },
  {
   "cell_type": "code",
   "execution_count": null,
   "id": "a4710a0c",
   "metadata": {},
   "outputs": [],
   "source": []
  }
 ],
 "metadata": {
  "kernelspec": {
   "display_name": "LighthouseLabs",
   "language": "python",
   "name": "lighthouselabs"
  },
  "language_info": {
   "codemirror_mode": {
    "name": "ipython",
    "version": 3
   },
   "file_extension": ".py",
   "mimetype": "text/x-python",
   "name": "python",
   "nbconvert_exporter": "python",
   "pygments_lexer": "ipython3",
   "version": "3.8.2"
  }
 },
 "nbformat": 4,
 "nbformat_minor": 5
}
