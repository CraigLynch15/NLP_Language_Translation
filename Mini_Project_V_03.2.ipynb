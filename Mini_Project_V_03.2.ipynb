{
 "cells": [
  {
   "cell_type": "markdown",
   "id": "18586668",
   "metadata": {},
   "source": [
    "# Language Translator"
   ]
  },
  {
   "cell_type": "code",
   "execution_count": 1,
   "id": "6e35ac21",
   "metadata": {},
   "outputs": [],
   "source": [
    "import nltk\n",
    "import pandas as pd\n",
    "import numpy as np\n",
    "\n",
    "import string\n",
    "import re\n",
    "from numpy import array, argmax, random, take\n",
    "import tensorflow as tf\n",
    "\n",
    "from tensorflow import keras\n",
    "from tensorflow.keras import models\n",
    "from tensorflow.keras import layers\n",
    "from tensorflow.keras.utils import to_categorical\n",
    "from tensorflow.keras.models import Sequential\n",
    "from tensorflow.keras.layers import Dense, LSTM, Embedding, RepeatVector\n",
    "from tensorflow.keras.layers import TimeDistributed\n",
    "from tensorflow.keras.preprocessing.text import Tokenizer\n",
    "from tensorflow.keras.callbacks import ModelCheckpoint\n",
    "from tensorflow.keras.preprocessing.sequence import pad_sequences\n",
    "from tensorflow.keras.models import load_model\n",
    "from tensorflow.keras import optimizers\n",
    "import matplotlib.pyplot as plt\n",
    "%matplotlib inline\n",
    "\n",
    "from tensorflow.keras.utils import plot_model"
   ]
  },
  {
   "cell_type": "code",
   "execution_count": 2,
   "id": "bedee742",
   "metadata": {},
   "outputs": [
    {
     "data": {
      "text/plain": [
       "array([['Go.', 'Va !',\n",
       "        'CC-BY 2.0 (France) Attribution: tatoeba.org #2877272 (CM) & #1158250 (Wittydev)'],\n",
       "       ['Go.', 'Marche.',\n",
       "        'CC-BY 2.0 (France) Attribution: tatoeba.org #2877272 (CM) & #8090732 (Micsmithel)'],\n",
       "       ['Go.', 'Bouge !',\n",
       "        'CC-BY 2.0 (France) Attribution: tatoeba.org #2877272 (CM) & #9022935 (Micsmithel)'],\n",
       "       ...,\n",
       "       ['No one wants to fight.', 'Personne ne veut se battre.',\n",
       "        'CC-BY 2.0 (France) Attribution: tatoeba.org #2091157 (CK) & #2101587 (sacredceltic)'],\n",
       "       ['No one wants to speak.', 'Personne ne veut parler.',\n",
       "        'CC-BY 2.0 (France) Attribution: tatoeba.org #2091158 (CK) & #2101585 (sacredceltic)'],\n",
       "       ['No one was helping us.', 'Personne ne nous aidait.',\n",
       "        'CC-BY 2.0 (France) Attribution: tatoeba.org #4950734 (CK) & #5899355 (Aiji)']],\n",
       "      dtype='<U349')"
      ]
     },
     "execution_count": 2,
     "metadata": {},
     "output_type": "execute_result"
    }
   ],
   "source": [
    "# function to read raw text file\n",
    "def read_text(filename):\n",
    "    # open the file\n",
    "    file = open(filename, mode='rt', encoding='utf-8')\n",
    "\n",
    "    # read all text\n",
    "    text = file.read()\n",
    "    file.close()\n",
    "    return text\n",
    "\n",
    "# split a text into sentences\n",
    "def to_lines(text):\n",
    "    sents = text.strip().split('\\n')\n",
    "    sents = [i.split('\\t') for i in sents]\n",
    "    return sents\n",
    "\n",
    "data = read_text(\"fra.txt\")\n",
    "fra_eng = to_lines(data)\n",
    "fra_eng = array(fra_eng)\n",
    "fra_eng = fra_eng[:50000,:]\n",
    "fra_eng"
   ]
  },
  {
   "cell_type": "markdown",
   "id": "88dfcb12",
   "metadata": {},
   "source": [
    "### Create and Pre-Process DataFrame"
   ]
  },
  {
   "cell_type": "code",
   "execution_count": 3,
   "id": "76d49d17",
   "metadata": {},
   "outputs": [],
   "source": [
    "# create dataframe\n",
    "fra_eng = pd.DataFrame(fra_eng)\n",
    "fra_eng = fra_eng.drop(2,axis=1)\n",
    "\n",
    "df = fra_eng.copy()\n",
    "\n",
    "# rename columns\n",
    "df = df.rename(columns={df.columns[1]: 'Fr'})\n",
    "df = df.rename(columns={df.columns[0]: 'En'})\n",
    "df = df.astype(pd.StringDtype())"
   ]
  },
  {
   "cell_type": "code",
   "execution_count": 4,
   "id": "97c768d5",
   "metadata": {},
   "outputs": [
    {
     "data": {
      "text/html": [
       "<div>\n",
       "<style scoped>\n",
       "    .dataframe tbody tr th:only-of-type {\n",
       "        vertical-align: middle;\n",
       "    }\n",
       "\n",
       "    .dataframe tbody tr th {\n",
       "        vertical-align: top;\n",
       "    }\n",
       "\n",
       "    .dataframe thead th {\n",
       "        text-align: right;\n",
       "    }\n",
       "</style>\n",
       "<table border=\"1\" class=\"dataframe\">\n",
       "  <thead>\n",
       "    <tr style=\"text-align: right;\">\n",
       "      <th></th>\n",
       "      <th>En</th>\n",
       "      <th>Fr</th>\n",
       "    </tr>\n",
       "  </thead>\n",
       "  <tbody>\n",
       "    <tr>\n",
       "      <th>0</th>\n",
       "      <td>go.</td>\n",
       "      <td>va !</td>\n",
       "    </tr>\n",
       "    <tr>\n",
       "      <th>1</th>\n",
       "      <td>go.</td>\n",
       "      <td>marche.</td>\n",
       "    </tr>\n",
       "    <tr>\n",
       "      <th>2</th>\n",
       "      <td>go.</td>\n",
       "      <td>bouge !</td>\n",
       "    </tr>\n",
       "    <tr>\n",
       "      <th>3</th>\n",
       "      <td>hi.</td>\n",
       "      <td>salut !</td>\n",
       "    </tr>\n",
       "    <tr>\n",
       "      <th>4</th>\n",
       "      <td>hi.</td>\n",
       "      <td>salut.</td>\n",
       "    </tr>\n",
       "  </tbody>\n",
       "</table>\n",
       "</div>"
      ],
      "text/plain": [
       "    En       Fr\n",
       "0  go.     va !\n",
       "1  go.  marche.\n",
       "2  go.  bouge !\n",
       "3  hi.  salut !\n",
       "4  hi.   salut."
      ]
     },
     "execution_count": 4,
     "metadata": {},
     "output_type": "execute_result"
    }
   ],
   "source": [
    "# Make lowercase\n",
    "df['Fr'] = df['Fr'].str.lower()\n",
    "df['En'] = df['En'].str.lower()\n",
    "df.head()"
   ]
  },
  {
   "cell_type": "code",
   "execution_count": 5,
   "id": "b9baf22c",
   "metadata": {},
   "outputs": [
    {
     "data": {
      "text/html": [
       "<div>\n",
       "<style scoped>\n",
       "    .dataframe tbody tr th:only-of-type {\n",
       "        vertical-align: middle;\n",
       "    }\n",
       "\n",
       "    .dataframe tbody tr th {\n",
       "        vertical-align: top;\n",
       "    }\n",
       "\n",
       "    .dataframe thead th {\n",
       "        text-align: right;\n",
       "    }\n",
       "</style>\n",
       "<table border=\"1\" class=\"dataframe\">\n",
       "  <thead>\n",
       "    <tr style=\"text-align: right;\">\n",
       "      <th></th>\n",
       "      <th>En</th>\n",
       "      <th>Fr</th>\n",
       "    </tr>\n",
       "  </thead>\n",
       "  <tbody>\n",
       "    <tr>\n",
       "      <th>0</th>\n",
       "      <td>go</td>\n",
       "      <td>va</td>\n",
       "    </tr>\n",
       "    <tr>\n",
       "      <th>1</th>\n",
       "      <td>go</td>\n",
       "      <td>marche</td>\n",
       "    </tr>\n",
       "    <tr>\n",
       "      <th>2</th>\n",
       "      <td>go</td>\n",
       "      <td>bouge</td>\n",
       "    </tr>\n",
       "    <tr>\n",
       "      <th>3</th>\n",
       "      <td>hi</td>\n",
       "      <td>salut</td>\n",
       "    </tr>\n",
       "    <tr>\n",
       "      <th>4</th>\n",
       "      <td>hi</td>\n",
       "      <td>salut</td>\n",
       "    </tr>\n",
       "  </tbody>\n",
       "</table>\n",
       "</div>"
      ],
      "text/plain": [
       "   En      Fr\n",
       "0  go     va \n",
       "1  go  marche\n",
       "2  go  bouge \n",
       "3  hi  salut \n",
       "4  hi   salut"
      ]
     },
     "execution_count": 5,
     "metadata": {},
     "output_type": "execute_result"
    }
   ],
   "source": [
    "# Remove Punctuation\n",
    "import string\n",
    "def remove_punctuations(text):\n",
    "    for punctuation in string.punctuation:\n",
    "        text = text.replace(punctuation, '')\n",
    "    return text\n",
    "\n",
    "df['En'] = df['En'].apply(remove_punctuations)\n",
    "df['Fr'] = df['Fr'].apply(remove_punctuations)\n",
    "df.head()"
   ]
  },
  {
   "cell_type": "markdown",
   "id": "1df7e7e9",
   "metadata": {},
   "source": [
    "### Text to Sequence Conversion (converts text to tokens)"
   ]
  },
  {
   "cell_type": "markdown",
   "id": "294b9b81",
   "metadata": {},
   "source": [
    "Visualise the length of the sentences."
   ]
  },
  {
   "cell_type": "code",
   "execution_count": 6,
   "id": "2fac3b2e",
   "metadata": {},
   "outputs": [
    {
     "data": {
      "image/png": "[encoded data removed]",
      "text/plain": [
       "<Figure size 432x288 with 2 Axes>"
      ]
     },
     "metadata": {
      "needs_background": "light"
     },
     "output_type": "display_data"
    }
   ],
   "source": [
    "# empty lists\n",
    "eng_l = []\n",
    "fra_l = []\n",
    "\n",
    "# populate the lists with sentence lengths\n",
    "for i in df['En']:\n",
    "      eng_l.append(len(i.split()))\n",
    "\n",
    "for i in df['Fr']:\n",
    "      fra_l.append(len(i.split()))\n",
    "\n",
    "length_df = pd.DataFrame({'eng':eng_l, 'fra':fra_l})\n",
    "\n",
    "length_df.hist(bins = 30)\n",
    "plt.show()"
   ]
  },
  {
   "cell_type": "code",
   "execution_count": 7,
   "id": "afbc09f7",
   "metadata": {},
   "outputs": [
    {
     "name": "stdout",
     "output_type": "stream",
     "text": [
      "Saved: english-french-both_v3.pkl\n",
      "Saved: english-french-train_v3.pkl\n",
      "Saved: english-french-test_v3.pkl\n"
     ]
    }
   ],
   "source": [
    "from pickle import load\n",
    "from pickle import dump\n",
    "from numpy.random import rand\n",
    "# reduce dataset size\n",
    "df = df.head(10000)\n",
    "# random shuffle\n",
    "# from numpy.random import shuffle\n",
    "# shuffle(df)\n",
    "# split into train/test\n",
    "train = df.head(8000)\n",
    "test = df.tail(2000)\n",
    "# save\n",
    "# save a list of clean sentences to file\n",
    "def save_clean_data(sentences, filename):\n",
    "    dump(sentences, open(filename, 'wb'))\n",
    "    print('Saved: %s' % filename)\n",
    "    \n",
    "save_clean_data(df, 'english-french-both_v3.pkl')\n",
    "save_clean_data(train, 'english-french-train_v3.pkl')\n",
    "save_clean_data(test, 'english-french-test_v3.pkl')"
   ]
  },
  {
   "cell_type": "code",
   "execution_count": 8,
   "id": "930779ee",
   "metadata": {},
   "outputs": [],
   "source": [
    "# load a clean dataset\n",
    "def load_clean_sentences(filename):\n",
    "    return load(open(filename, 'rb'))\n",
    "\n",
    "# load datasets\n",
    "df = load_clean_sentences('english-french-both_v3.pkl')\n",
    "train = load_clean_sentences('english-french-train_v3.pkl')\n",
    "test = load_clean_sentences('english-french-test_v3.pkl')"
   ]
  },
  {
   "cell_type": "code",
   "execution_count": 9,
   "id": "af4a51c6",
   "metadata": {},
   "outputs": [
    {
     "data": {
      "text/html": [
       "<div>\n",
       "<style scoped>\n",
       "    .dataframe tbody tr th:only-of-type {\n",
       "        vertical-align: middle;\n",
       "    }\n",
       "\n",
       "    .dataframe tbody tr th {\n",
       "        vertical-align: top;\n",
       "    }\n",
       "\n",
       "    .dataframe thead th {\n",
       "        text-align: right;\n",
       "    }\n",
       "</style>\n",
       "<table border=\"1\" class=\"dataframe\">\n",
       "  <thead>\n",
       "    <tr style=\"text-align: right;\">\n",
       "      <th></th>\n",
       "      <th>En</th>\n",
       "      <th>Fr</th>\n",
       "    </tr>\n",
       "  </thead>\n",
       "  <tbody>\n",
       "    <tr>\n",
       "      <th>0</th>\n",
       "      <td>go</td>\n",
       "      <td>va</td>\n",
       "    </tr>\n",
       "    <tr>\n",
       "      <th>1</th>\n",
       "      <td>go</td>\n",
       "      <td>marche</td>\n",
       "    </tr>\n",
       "    <tr>\n",
       "      <th>2</th>\n",
       "      <td>go</td>\n",
       "      <td>bouge</td>\n",
       "    </tr>\n",
       "    <tr>\n",
       "      <th>3</th>\n",
       "      <td>hi</td>\n",
       "      <td>salut</td>\n",
       "    </tr>\n",
       "    <tr>\n",
       "      <th>4</th>\n",
       "      <td>hi</td>\n",
       "      <td>salut</td>\n",
       "    </tr>\n",
       "  </tbody>\n",
       "</table>\n",
       "</div>"
      ],
      "text/plain": [
       "   En      Fr\n",
       "0  go     va \n",
       "1  go  marche\n",
       "2  go  bouge \n",
       "3  hi  salut \n",
       "4  hi   salut"
      ]
     },
     "execution_count": 9,
     "metadata": {},
     "output_type": "execute_result"
    }
   ],
   "source": [
    "train.head()"
   ]
  },
  {
   "cell_type": "code",
   "execution_count": 10,
   "id": "124de8c8",
   "metadata": {},
   "outputs": [],
   "source": [
    "df = df[[\"En\", \"Fr\"]].to_numpy()\n",
    "train = train[[\"En\", \"Fr\"]].to_numpy()\n",
    "test = test[[\"En\", \"Fr\"]].to_numpy()"
   ]
  },
  {
   "cell_type": "code",
   "execution_count": 11,
   "id": "79f516a9",
   "metadata": {},
   "outputs": [],
   "source": [
    "# fit a tokenizer\n",
    "def create_tokenizer(lines):\n",
    "    tokenizer = Tokenizer()\n",
    "    tokenizer.fit_on_texts(lines)\n",
    "    return tokenizer\n",
    "\n",
    "# max sentence length\n",
    "def max_length(lines):\n",
    "    return max(len(line.split()) for line in lines)"
   ]
  },
  {
   "cell_type": "code",
   "execution_count": 12,
   "id": "60c28d12",
   "metadata": {},
   "outputs": [
    {
     "name": "stdout",
     "output_type": "stream",
     "text": [
      "English Vocabulary Size: 2027\n",
      "English Max Length: 5\n",
      "French Vocabulary Size: 4756\n",
      "French Max Length: 10\n"
     ]
    }
   ],
   "source": [
    "# prepare English tokenizer\n",
    "eng_tokenizer = create_tokenizer(df[:, 0])\n",
    "eng_vocab_size = len(eng_tokenizer.word_index) + 1\n",
    "eng_length = max_length(df[:, 0])\n",
    "print('English Vocabulary Size: %d' % eng_vocab_size)\n",
    "print('English Max Length: %d' % (eng_length))\n",
    "# prepare French tokenizer\n",
    "fra_tokenizer = create_tokenizer(df[:, 1])\n",
    "fra_vocab_size = len(fra_tokenizer.word_index) + 1\n",
    "fra_length = max_length(df[:, 1])\n",
    "print('French Vocabulary Size: %d' % fra_vocab_size)\n",
    "print('French Max Length: %d' % (fra_length))"
   ]
  },
  {
   "cell_type": "markdown",
   "id": "f4400f89",
   "metadata": {},
   "source": [
    "Function to prepare the sequences. It will also perform sequence padding to a maximum sentence length"
   ]
  },
  {
   "cell_type": "code",
   "execution_count": 13,
   "id": "37a75306",
   "metadata": {},
   "outputs": [],
   "source": [
    "# encode and pad sequences\n",
    "def encode_sequences(tokenizer, length, lines):\n",
    "     # integer encode sequences\n",
    "    seq = tokenizer.texts_to_sequences(lines)\n",
    "     # pad sequences with 0 values\n",
    "    seq = pad_sequences(seq, maxlen=length, padding='post')\n",
    "    return seq"
   ]
  },
  {
   "cell_type": "markdown",
   "id": "35307233",
   "metadata": {},
   "source": [
    "### Model Building"
   ]
  },
  {
   "cell_type": "markdown",
   "id": "b807d235",
   "metadata": {},
   "source": [
    "Define Seq2Seq model architecture:\n",
    "\n",
    "* Encoder: use an embedding layer and an LSTM layer\n",
    "* Decoder: use LSTM layer followed by a dense layer"
   ]
  },
  {
   "cell_type": "code",
   "execution_count": 14,
   "id": "3f521b06",
   "metadata": {},
   "outputs": [],
   "source": [
    "from sklearn.model_selection import train_test_split\n",
    "\n",
    "# split data into train and test set\n",
    "train, test = train_test_split(df, test_size=0.2, random_state = 12)"
   ]
  },
  {
   "cell_type": "code",
   "execution_count": 15,
   "id": "8d8f8d7f",
   "metadata": {},
   "outputs": [],
   "source": [
    "# prepare training data\n",
    "trainX = encode_sequences(fra_tokenizer, fra_length, train[:, 1])\n",
    "trainY = encode_sequences(eng_tokenizer, eng_length, train[:, 0])\n",
    "\n",
    "# prepare validation data\n",
    "testX = encode_sequences(fra_tokenizer, fra_length, test[:, 1])\n",
    "testY = encode_sequences(eng_tokenizer, eng_length, test[:, 0])"
   ]
  },
  {
   "cell_type": "code",
   "execution_count": 16,
   "id": "dd5c0f76",
   "metadata": {},
   "outputs": [
    {
     "name": "stdout",
     "output_type": "stream",
     "text": [
      "(8000, 10)\n",
      "(8000, 5)\n",
      "(2000, 10)\n",
      "(2000, 5)\n"
     ]
    }
   ],
   "source": [
    "print(trainX.shape)\n",
    "print(trainY.shape)\n",
    "print(testX.shape)\n",
    "print(testY.shape)"
   ]
  },
  {
   "cell_type": "code",
   "execution_count": 17,
   "id": "01b9c70b",
   "metadata": {},
   "outputs": [],
   "source": [
    "# build NMT model\n",
    "def define_model(in_vocab,out_vocab, in_timesteps,out_timesteps,units):\n",
    "    model = Sequential()\n",
    "    model.add(Embedding(in_vocab, units, input_length=in_timesteps, mask_zero=True))\n",
    "    model.add(LSTM(units))\n",
    "    model.add(RepeatVector(out_timesteps))\n",
    "    model.add(LSTM(units, return_sequences=True))\n",
    "    model.add(Dense(out_vocab, activation='softmax'))\n",
    "    return model"
   ]
  },
  {
   "cell_type": "code",
   "execution_count": null,
   "id": "6857143a",
   "metadata": {},
   "outputs": [],
   "source": []
  },
  {
   "cell_type": "code",
   "execution_count": 18,
   "id": "3321c800",
   "metadata": {},
   "outputs": [],
   "source": [
    "# model compilation\n",
    "model = define_model(fra_vocab_size, eng_vocab_size, fra_length, eng_length, 512)"
   ]
  },
  {
   "cell_type": "code",
   "execution_count": 35,
   "id": "42233a23",
   "metadata": {},
   "outputs": [
    {
     "name": "stdout",
     "output_type": "stream",
     "text": [
      "Model: \"sequential\"\n",
      "_________________________________________________________________\n",
      "Layer (type)                 Output Shape              Param #   \n",
      "=================================================================\n",
      "embedding (Embedding)        (None, 10, 512)           2435072   \n",
      "_________________________________________________________________\n",
      "lstm (LSTM)                  (None, 512)               2099200   \n",
      "_________________________________________________________________\n",
      "repeat_vector (RepeatVector) (None, 5, 512)            0         \n",
      "_________________________________________________________________\n",
      "lstm_1 (LSTM)                (None, 5, 512)            2099200   \n",
      "_________________________________________________________________\n",
      "dense (Dense)                (None, 5, 2027)           1039851   \n",
      "=================================================================\n",
      "Total params: 7,673,323\n",
      "Trainable params: 7,673,323\n",
      "Non-trainable params: 0\n",
      "_________________________________________________________________\n",
      "None\n"
     ]
    },
    {
     "data": {
      "image/png": "[encoded data removed]",
      "text/plain": [
       "<IPython.core.display.Image object>"
      ]
     },
     "execution_count": 35,
     "metadata": {},
     "output_type": "execute_result"
    }
   ],
   "source": [
    "rms = optimizers.RMSprop(lr=0.001)\n",
    "model.compile(optimizer=rms, loss='sparse_categorical_crossentropy')\n",
    "print(model.summary())\n",
    "plot_model(model, to_file='model_v3.png', show_shapes=True)"
   ]
  },
  {
   "cell_type": "code",
   "execution_count": null,
   "id": "e44579d3",
   "metadata": {},
   "outputs": [],
   "source": []
  },
  {
   "cell_type": "markdown",
   "id": "898e3dc6",
   "metadata": {},
   "source": [
    "### Training the Model"
   ]
  },
  {
   "cell_type": "code",
   "execution_count": 36,
   "id": "af46594f",
   "metadata": {},
   "outputs": [
    {
     "name": "stdout",
     "output_type": "stream",
     "text": [
      "Epoch 1/20\n",
      "13/13 [==============================] - 44s 3s/step - loss: 2.6402 - val_loss: 2.8095\n",
      "\n",
      "Epoch 00001: val_loss improved from inf to 2.80955, saving model to model_v3.h5\n",
      "Epoch 2/20\n",
      "13/13 [==============================] - 32s 2s/step - loss: 2.4736 - val_loss: 2.7591\n",
      "\n",
      "Epoch 00002: val_loss improved from 2.80955 to 2.75914, saving model to model_v3.h5\n",
      "Epoch 3/20\n",
      "13/13 [==============================] - 39s 3s/step - loss: 2.3884 - val_loss: 2.7585\n",
      "\n",
      "Epoch 00003: val_loss improved from 2.75914 to 2.75847, saving model to model_v3.h5\n",
      "Epoch 4/20\n",
      "13/13 [==============================] - 35s 3s/step - loss: 2.2986 - val_loss: 2.7337\n",
      "\n",
      "Epoch 00004: val_loss improved from 2.75847 to 2.73369, saving model to model_v3.h5\n",
      "Epoch 5/20\n",
      "13/13 [==============================] - 88s 7s/step - loss: 2.2181 - val_loss: 2.6500\n",
      "\n",
      "Epoch 00005: val_loss improved from 2.73369 to 2.64996, saving model to model_v3.h5\n",
      "Epoch 6/20\n",
      "13/13 [==============================] - 36s 3s/step - loss: 2.1526 - val_loss: 2.5944\n",
      "\n",
      "Epoch 00006: val_loss improved from 2.64996 to 2.59441, saving model to model_v3.h5\n",
      "Epoch 7/20\n",
      "13/13 [==============================] - 34s 3s/step - loss: 2.0644 - val_loss: 2.5659\n",
      "\n",
      "Epoch 00007: val_loss improved from 2.59441 to 2.56593, saving model to model_v3.h5\n",
      "Epoch 8/20\n",
      "13/13 [==============================] - 35s 3s/step - loss: 1.9992 - val_loss: 2.5634\n",
      "\n",
      "Epoch 00008: val_loss improved from 2.56593 to 2.56343, saving model to model_v3.h5\n",
      "Epoch 9/20\n",
      "13/13 [==============================] - 34s 3s/step - loss: 1.9346 - val_loss: 2.5261\n",
      "\n",
      "Epoch 00009: val_loss improved from 2.56343 to 2.52609, saving model to model_v3.h5\n",
      "Epoch 10/20\n",
      "13/13 [==============================] - 41s 3s/step - loss: 1.8631 - val_loss: 2.4929\n",
      "\n",
      "Epoch 00010: val_loss improved from 2.52609 to 2.49293, saving model to model_v3.h5\n",
      "Epoch 11/20\n",
      "13/13 [==============================] - 38s 3s/step - loss: 1.7899 - val_loss: 2.4730\n",
      "\n",
      "Epoch 00011: val_loss improved from 2.49293 to 2.47304, saving model to model_v3.h5\n",
      "Epoch 12/20\n",
      "13/13 [==============================] - 36s 3s/step - loss: 1.7427 - val_loss: 2.5011\n",
      "\n",
      "Epoch 00012: val_loss did not improve from 2.47304\n",
      "Epoch 13/20\n",
      "13/13 [==============================] - 34s 3s/step - loss: 1.6757 - val_loss: 2.4454\n",
      "\n",
      "Epoch 00013: val_loss improved from 2.47304 to 2.44539, saving model to model_v3.h5\n",
      "Epoch 14/20\n",
      "13/13 [==============================] - 31s 2s/step - loss: 1.6192 - val_loss: 2.4492\n",
      "\n",
      "Epoch 00014: val_loss did not improve from 2.44539\n",
      "Epoch 15/20\n",
      "13/13 [==============================] - 35s 3s/step - loss: 1.5590 - val_loss: 2.4103\n",
      "\n",
      "Epoch 00015: val_loss improved from 2.44539 to 2.41031, saving model to model_v3.h5\n",
      "Epoch 16/20\n",
      "13/13 [==============================] - 29s 2s/step - loss: 1.5138 - val_loss: 2.3838\n",
      "\n",
      "Epoch 00016: val_loss improved from 2.41031 to 2.38380, saving model to model_v3.h5\n",
      "Epoch 17/20\n",
      "13/13 [==============================] - 30s 2s/step - loss: 1.4672 - val_loss: 2.4414\n",
      "\n",
      "Epoch 00017: val_loss did not improve from 2.38380\n",
      "Epoch 18/20\n",
      "13/13 [==============================] - 26s 2s/step - loss: 1.4044 - val_loss: 2.3573\n",
      "\n",
      "Epoch 00018: val_loss improved from 2.38380 to 2.35726, saving model to model_v3.h5\n",
      "Epoch 19/20\n",
      "13/13 [==============================] - 28s 2s/step - loss: 1.3597 - val_loss: 2.3643\n",
      "\n",
      "Epoch 00019: val_loss did not improve from 2.35726\n",
      "Epoch 20/20\n",
      "13/13 [==============================] - 26s 2s/step - loss: 1.3093 - val_loss: 2.3838\n",
      "\n",
      "Epoch 00020: val_loss did not improve from 2.35726\n"
     ]
    }
   ],
   "source": [
    "# fit model\n",
    "filename = 'model_v3.h5'\n",
    "checkpoint = ModelCheckpoint(filename, monitor='val_loss', verbose=1, save_best_only=True, mode='min')\n",
    "\n",
    "# train model\n",
    "history = model.fit(trainX, trainY.reshape(trainY.shape[0], trainY.shape[1], 1),\n",
    "                    epochs=20, batch_size=512, validation_split = 0.2,callbacks=[checkpoint], \n",
    "                    verbose=1)"
   ]
  },
  {
   "cell_type": "code",
   "execution_count": 37,
   "id": "6a9600e6",
   "metadata": {},
   "outputs": [
    {
     "data": {
      "image/png": "[encoded data removed]",
      "text/plain": [
       "<Figure size 432x288 with 1 Axes>"
      ]
     },
     "metadata": {
      "needs_background": "light"
     },
     "output_type": "display_data"
    }
   ],
   "source": [
    "plt.plot(history.history['loss'])\n",
    "plt.plot(history.history['val_loss'])\n",
    "plt.legend(['training loss','validation loss'])\n",
    "plt.show()"
   ]
  },
  {
   "cell_type": "markdown",
   "id": "706d9768",
   "metadata": {},
   "source": [
    "# Evaluate the Model"
   ]
  },
  {
   "cell_type": "code",
   "execution_count": 46,
   "id": "3815c4c4",
   "metadata": {},
   "outputs": [],
   "source": [
    "model = load_model('model_v3.h5')\n",
    "translation = np.argmax(model.predict(testX.reshape((testX.shape[0],testX.shape[1]))),axis=-1)\n",
    "#translation = model.predict(testX, verbose=0)\n",
    "#preds = model.predict_classes(testX)"
   ]
  },
  {
   "cell_type": "code",
   "execution_count": 47,
   "id": "4e4d3387",
   "metadata": {},
   "outputs": [
    {
     "data": {
      "text/plain": [
       "(2000, 5)"
      ]
     },
     "execution_count": 47,
     "metadata": {},
     "output_type": "execute_result"
    }
   ],
   "source": [
    "translation.shape"
   ]
  },
  {
   "cell_type": "code",
   "execution_count": 48,
   "id": "569ace4e",
   "metadata": {},
   "outputs": [],
   "source": [
    "# map an integer to a word\n",
    "def word_for_id(integer, tokenizer):\n",
    "\tfor word, index in tokenizer.word_index.items():\n",
    "\t\tif index == integer:\n",
    "\t\t\treturn word\n",
    "\treturn None"
   ]
  },
  {
   "cell_type": "code",
   "execution_count": 49,
   "id": "d740796e",
   "metadata": {},
   "outputs": [],
   "source": [
    "# generate target given source sequence\n",
    "def predict_sequence(model, tokenizer, source):\n",
    "\tprediction = model.predict(source, verbose=0)[0]\n",
    "\tintegers = [argmax(vector) for vector in prediction]\n",
    "\ttarget = list()\n",
    "\tfor i in integers:\n",
    "\t\tword = word_for_id(i, tokenizer)\n",
    "\t\tif word is None:\n",
    "\t\t\tbreak\n",
    "\t\ttarget.append(word)\n",
    "\treturn ' '.join(target)"
   ]
  },
  {
   "cell_type": "code",
   "execution_count": 50,
   "id": "2e8cd347",
   "metadata": {},
   "outputs": [],
   "source": [
    "from nltk.translate.bleu_score import corpus_bleu\n",
    "# evaluate the skill of the model\n",
    "def evaluate_model(model, tokenizer, sources, raw_dataset):\n",
    "\tactual, predicted = list(), list()\n",
    "\tfor i, source in enumerate(sources):\n",
    "\t\t# translate encoded source text\n",
    "\t\tsource = source.reshape((1, source.shape[0]))\n",
    "\t\ttranslation = predict_sequence(model, eng_tokenizer, source)\n",
    "\t\traw_target, raw_src = raw_dataset[i]\n",
    "\t\tif i < 10:\n",
    "\t\t\tprint('src=[%s], target=[%s], predicted=[%s]' % (raw_src, raw_target, translation))\n",
    "\t\tactual.append([raw_target.split()])\n",
    "\t\tpredicted.append(translation.split())\n",
    "\t# calculate BLEU score\n",
    "\tprint('BLEU-1: %f' % corpus_bleu(actual, predicted, weights=(1.0, 0, 0, 0)))\n",
    "\tprint('BLEU-2: %f' % corpus_bleu(actual, predicted, weights=(0.5, 0.5, 0, 0)))\n",
    "\tprint('BLEU-3: %f' % corpus_bleu(actual, predicted, weights=(0.3, 0.3, 0.3, 0)))\n",
    "\tprint('BLEU-4: %f' % corpus_bleu(actual, predicted, weights=(0.25, 0.25, 0.25, 0.25)))"
   ]
  },
  {
   "cell_type": "code",
   "execution_count": 51,
   "id": "f2d2a0bf",
   "metadata": {},
   "outputs": [
    {
     "name": "stdout",
     "output_type": "stream",
     "text": [
      "train\n",
      "src=[tom était mignon], target=[tom was cute], predicted=[tom was me]\n",
      "src=[ne me poussez pas ], target=[dont push me], predicted=[dont push me]\n",
      "src=[je marcherai], target=[i will walk], predicted=[i will it]\n",
      "src=[tom la volé], target=[tom stole it], predicted=[tom was me]\n",
      "src=[ils sont rouges], target=[theyre red], predicted=[theyre]\n",
      "src=[prenez vos jambes à votre cou ], target=[run for it], predicted=[dont for it]\n",
      "src=[je sais danser], target=[i can dance], predicted=[i was you]\n",
      "src=[du calme], target=[take it easy], predicted=[come down]\n",
      "src=[ne sois pas naïf ], target=[dont be naive], predicted=[dont be upset]\n",
      "src=[jai aidé], target=[i helped], predicted=[i tried]\n",
      "BLEU-1: 0.444544\n",
      "BLEU-2: 0.290354\n",
      "BLEU-3: 0.187144\n",
      "BLEU-4: 0.051648\n",
      "test\n",
      "src=[dismen davantage], target=[tell me more], predicted=[take in]\n",
      "src=[nous vous admirons], target=[we admire you], predicted=[we found]\n",
      "src=[jai été engagé], target=[i was hired], predicted=[i was tom]\n",
      "src=[tom pleurerait], target=[tom would cry], predicted=[tom is]\n",
      "src=[êtesvous aveugle ], target=[are you blind], predicted=[are you hurt]\n",
      "src=[cest un magnat], target=[hes a tycoon], predicted=[its a slacker]\n",
      "src=[cest gratuit], target=[this is free], predicted=[its is]\n",
      "src=[arrête de frimer ], target=[dont show off], predicted=[stop some]\n",
      "src=[tiens ma main], target=[hold my hand], predicted=[thats a]\n",
      "src=[jai raison], target=[i am right], predicted=[i am]\n",
      "BLEU-1: 0.352492\n",
      "BLEU-2: 0.203262\n",
      "BLEU-3: 0.113435\n",
      "BLEU-4: 0.023987\n"
     ]
    }
   ],
   "source": [
    "# load model\n",
    "model = load_model('model_v3.h5')\n",
    "# test on some training sequences\n",
    "print('train')\n",
    "evaluate_model(model, eng_tokenizer, trainX, train)\n",
    "# test on some test sequences\n",
    "print('test')\n",
    "evaluate_model(model, eng_tokenizer, testX, test)"
   ]
  },
  {
   "cell_type": "code",
   "execution_count": null,
   "id": "a4710a0c",
   "metadata": {},
   "outputs": [],
   "source": []
  }
 ],
 "metadata": {
  "kernelspec": {
   "display_name": "LighthouseLabs",
   "language": "python",
   "name": "lighthouselabs"
  },
  "language_info": {
   "codemirror_mode": {
    "name": "ipython",
    "version": 3
   },
   "file_extension": ".py",
   "mimetype": "text/x-python",
   "name": "python",
   "nbconvert_exporter": "python",
   "pygments_lexer": "ipython3",
   "version": "3.8.2"
  }
 },
 "nbformat": 4,
 "nbformat_minor": 5
}
